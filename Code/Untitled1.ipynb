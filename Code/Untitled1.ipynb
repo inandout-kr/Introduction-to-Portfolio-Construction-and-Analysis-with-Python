{
 "cells": [
  {
   "cell_type": "markdown",
   "id": "594f6f4c-01d3-417e-a2cc-6c7d806eb37c",
   "metadata": {},
   "source": [
    "# Downside"
   ]
  },
  {
   "cell_type": "code",
   "execution_count": 2,
   "id": "0e5dc2f0-b389-49ee-87eb-452b59bc19dc",
   "metadata": {},
   "outputs": [],
   "source": [
    "import pandas as pd\n",
    "import Risk_kit as rk\n",
    "%load_ext autoreload\n",
    "%autoreload 2\n",
    "%matplotlib inline"
   ]
  },
  {
   "cell_type": "code",
   "execution_count": 4,
   "id": "846c2268-21ec-42c7-9895-2bd2b28ddf16",
   "metadata": {},
   "outputs": [],
   "source": [
    "hfi = rk.get_hfi_returns()"
   ]
  },
  {
   "cell_type": "markdown",
   "id": "1d439e19-569b-44e6-acc0-de64feffa176",
   "metadata": {},
   "source": [
    "# Semideviation"
   ]
  },
  {
   "cell_type": "code",
   "execution_count": 5,
   "id": "4b6c6f69-6c6b-45e6-83fc-43a80cea2650",
   "metadata": {},
   "outputs": [
    {
     "data": {
      "text/plain": [
       "Convertible Arbitrage     0.016536\n",
       "CTA Global                0.023290\n",
       "Distressed Securities     0.017009\n",
       "Emerging Markets          0.032476\n",
       "Equity Market Neutral     0.008115\n",
       "Event Driven              0.016712\n",
       "Fixed Income Arbitrage    0.011517\n",
       "Global Macro              0.014694\n",
       "Long/Short Equity         0.019897\n",
       "Merger Arbitrage          0.009600\n",
       "Relative Value            0.011462\n",
       "Short Selling             0.047655\n",
       "Funds Of Funds            0.015536\n",
       "dtype: float64"
      ]
     },
     "execution_count": 5,
     "metadata": {},
     "output_type": "execute_result"
    }
   ],
   "source": [
    "hfi.std(ddof=0) # ddof: the degrees of freedom(자유도)"
   ]
  },
  {
   "cell_type": "code",
   "execution_count": 8,
   "id": "c917d6bc-d576-45ef-b0d3-30441f48b566",
   "metadata": {},
   "outputs": [
    {
     "data": {
      "text/plain": [
       "Convertible Arbitrage     0.019540\n",
       "CTA Global                0.012443\n",
       "Distressed Securities     0.015185\n",
       "Emerging Markets          0.028039\n",
       "Equity Market Neutral     0.009566\n",
       "Event Driven              0.015429\n",
       "Fixed Income Arbitrage    0.017763\n",
       "Global Macro              0.006579\n",
       "Long/Short Equity         0.014051\n",
       "Merger Arbitrage          0.008875\n",
       "Relative Value            0.012244\n",
       "Short Selling             0.027283\n",
       "Funds Of Funds            0.012122\n",
       "dtype: float64"
      ]
     },
     "execution_count": 8,
     "metadata": {},
     "output_type": "execute_result"
    }
   ],
   "source": [
    "hfi[hfi<0].std(ddof=0) # hfi<0인 values만 std 계산 => negative semideviaiton"
   ]
  },
  {
   "cell_type": "code",
   "execution_count": null,
   "id": "a842b939-c7d0-47b5-889f-dca743fd2217",
   "metadata": {},
   "outputs": [],
   "source": []
  }
 ],
 "metadata": {
  "kernelspec": {
   "display_name": "Python 3",
   "language": "python",
   "name": "python3"
  },
  "language_info": {
   "codemirror_mode": {
    "name": "ipython",
    "version": 3
   },
   "file_extension": ".py",
   "mimetype": "text/x-python",
   "name": "python",
   "nbconvert_exporter": "python",
   "pygments_lexer": "ipython3",
   "version": "3.8.8"
  }
 },
 "nbformat": 4,
 "nbformat_minor": 5
}
