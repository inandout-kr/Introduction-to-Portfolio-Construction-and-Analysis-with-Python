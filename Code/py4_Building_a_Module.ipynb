{
 "cells": [
  {
   "cell_type": "markdown",
   "id": "75207a19-ff3c-47e5-b850-30bfb6225f48",
   "metadata": {},
   "source": [
    "# Building Modules\n",
    "\n",
    "나만의 모듈을 만들어 import 해보자\n",
    "1. py3에서 썼던 def drawdown\n",
    "2. fama-french dataset marketCap 상하위 Deciles def get_ffme_returns"
   ]
  },
  {
   "cell_type": "code",
   "execution_count": 2,
   "id": "fe86c56e-c86d-4417-8e97-97facb1028d1",
   "metadata": {},
   "outputs": [],
   "source": [
    "import pandas as pd"
   ]
  },
  {
   "cell_type": "code",
   "execution_count": 23,
   "id": "71c18200-86fa-4787-89b6-1feaa38250c9",
   "metadata": {},
   "outputs": [],
   "source": [
    "import module as m"
   ]
  },
  {
   "cell_type": "code",
   "execution_count": 24,
   "id": "2050c7e9-c7fe-4fe6-a859-733a3f1cd467",
   "metadata": {},
   "outputs": [
    {
     "data": {
      "text/plain": [
       "'Hello Han'"
      ]
     },
     "execution_count": 24,
     "metadata": {},
     "output_type": "execute_result"
    }
   ],
   "source": [
    "m.message"
   ]
  },
  {
   "cell_type": "code",
   "execution_count": 26,
   "id": "a7c48ab7-f5ce-4dc2-b694-cc353a53f4cc",
   "metadata": {},
   "outputs": [],
   "source": [
    "%load_ext autoreload"
   ]
  },
  {
   "cell_type": "code",
   "execution_count": 27,
   "id": "76646bd7-4c95-47cd-8cba-ac433a86376c",
   "metadata": {},
   "outputs": [],
   "source": [
    "%autoreload 2"
   ]
  },
  {
   "cell_type": "code",
   "execution_count": 28,
   "id": "a100fcaa-96e8-413e-aedc-72870a65ffc1",
   "metadata": {},
   "outputs": [
    {
     "data": {
      "text/plain": [
       "'Hello Han'"
      ]
     },
     "execution_count": 28,
     "metadata": {},
     "output_type": "execute_result"
    }
   ],
   "source": [
    "m.message"
   ]
  },
  {
   "cell_type": "code",
   "execution_count": 30,
   "id": "682bae0e-b3e6-4771-bd81-f66095b93d3f",
   "metadata": {},
   "outputs": [
    {
     "data": {
      "text/plain": [
       "'Hello giung and han and aa'"
      ]
     },
     "execution_count": 30,
     "metadata": {},
     "output_type": "execute_result"
    }
   ],
   "source": [
    "m.message"
   ]
  },
  {
   "cell_type": "code",
   "execution_count": 31,
   "id": "39348fc9-8565-45d8-80cc-ab8312744320",
   "metadata": {},
   "outputs": [
    {
     "name": "stdout",
     "output_type": "stream",
     "text": [
      "The autoreload extension is already loaded. To reload it, use:\n",
      "  %reload_ext autoreload\n"
     ]
    }
   ],
   "source": [
    "%load_ext autoreload\n",
    "%autoreload 2"
   ]
  },
  {
   "cell_type": "code",
   "execution_count": 33,
   "id": "fb92aada-9d19-4601-8d86-af47f80e302a",
   "metadata": {},
   "outputs": [],
   "source": [
    "import Risk_kit as rk"
   ]
  },
  {
   "cell_type": "code",
   "execution_count": 35,
   "id": "c4c55afd-8ae3-4189-91d7-3dd0b7b9cb31",
   "metadata": {},
   "outputs": [
    {
     "data": {
      "text/html": [
       "<div>\n",
       "<style scoped>\n",
       "    .dataframe tbody tr th:only-of-type {\n",
       "        vertical-align: middle;\n",
       "    }\n",
       "\n",
       "    .dataframe tbody tr th {\n",
       "        vertical-align: top;\n",
       "    }\n",
       "\n",
       "    .dataframe thead th {\n",
       "        text-align: right;\n",
       "    }\n",
       "</style>\n",
       "<table border=\"1\" class=\"dataframe\">\n",
       "  <thead>\n",
       "    <tr style=\"text-align: right;\">\n",
       "      <th></th>\n",
       "      <th>SmallCap</th>\n",
       "      <th>LargeCap</th>\n",
       "    </tr>\n",
       "  </thead>\n",
       "  <tbody>\n",
       "    <tr>\n",
       "      <th>1926-07</th>\n",
       "      <td>-0.0145</td>\n",
       "      <td>0.0329</td>\n",
       "    </tr>\n",
       "    <tr>\n",
       "      <th>1926-08</th>\n",
       "      <td>0.0512</td>\n",
       "      <td>0.0370</td>\n",
       "    </tr>\n",
       "    <tr>\n",
       "      <th>1926-09</th>\n",
       "      <td>0.0093</td>\n",
       "      <td>0.0067</td>\n",
       "    </tr>\n",
       "    <tr>\n",
       "      <th>1926-10</th>\n",
       "      <td>-0.0484</td>\n",
       "      <td>-0.0243</td>\n",
       "    </tr>\n",
       "    <tr>\n",
       "      <th>1926-11</th>\n",
       "      <td>-0.0078</td>\n",
       "      <td>0.0270</td>\n",
       "    </tr>\n",
       "  </tbody>\n",
       "</table>\n",
       "</div>"
      ],
      "text/plain": [
       "         SmallCap  LargeCap\n",
       "1926-07   -0.0145    0.0329\n",
       "1926-08    0.0512    0.0370\n",
       "1926-09    0.0093    0.0067\n",
       "1926-10   -0.0484   -0.0243\n",
       "1926-11   -0.0078    0.0270"
      ]
     },
     "execution_count": 35,
     "metadata": {},
     "output_type": "execute_result"
    }
   ],
   "source": [
    "returns = rk.get_ffme_returns()\n",
    "returns.head()"
   ]
  },
  {
   "cell_type": "code",
   "execution_count": 39,
   "id": "9133bb00-ab9c-4219-a368-0d5f1fa3f9d4",
   "metadata": {},
   "outputs": [
    {
     "data": {
      "text/plain": [
       "-0.8330007793945303"
      ]
     },
     "execution_count": 39,
     "metadata": {},
     "output_type": "execute_result"
    }
   ],
   "source": [
    "rk.drawdown(returns[\"SmallCap\"])[\"Drawdown\"].min()"
   ]
  },
  {
   "cell_type": "code",
   "execution_count": 40,
   "id": "0c105127-dd7f-40dd-977e-31a43cbbe544",
   "metadata": {},
   "outputs": [
    {
     "data": {
      "text/plain": [
       "-0.6312068077252386"
      ]
     },
     "execution_count": 40,
     "metadata": {},
     "output_type": "execute_result"
    }
   ],
   "source": [
    "rk.drawdown(returns[\"1975\":][\"SmallCap\"])[\"Drawdown\"].min()"
   ]
  },
  {
   "cell_type": "code",
   "execution_count": null,
   "id": "e77fa98f-e38b-4233-96a2-07d4e518b3d7",
   "metadata": {},
   "outputs": [],
   "source": []
  }
 ],
 "metadata": {
  "kernelspec": {
   "display_name": "Python 3",
   "language": "python",
   "name": "python3"
  },
  "language_info": {
   "codemirror_mode": {
    "name": "ipython",
    "version": 3
   },
   "file_extension": ".py",
   "mimetype": "text/x-python",
   "name": "python",
   "nbconvert_exporter": "python",
   "pygments_lexer": "ipython3",
   "version": "3.8.8"
  }
 },
 "nbformat": 4,
 "nbformat_minor": 5
}
